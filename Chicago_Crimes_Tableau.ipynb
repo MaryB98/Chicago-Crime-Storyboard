{
  "nbformat": 4,
  "nbformat_minor": 0,
  "metadata": {
    "colab": {
      "provenance": []
    },
    "kernelspec": {
      "name": "python3",
      "display_name": "Python 3"
    },
    "language_info": {
      "name": "python"
    }
  },
  "cells": [
    {
      "cell_type": "code",
      "execution_count": null,
      "metadata": {
        "colab": {
          "base_uri": "https://localhost:8080/"
        },
        "id": "NOgcHv3twZbI",
        "outputId": "760a39e6-acb9-44f3-9655-c0b4aaa94469"
      },
      "outputs": [
        {
          "output_type": "stream",
          "name": "stderr",
          "text": [
            "/tmp/ipython-input-1-991561057.py:13: UserWarning: Could not infer format, so each element will be parsed individually, falling back to `dateutil`. To ensure parsing is consistent and as-expected, please specify a format.\n",
            "  df['Date'] = pd.to_datetime(df['Date'], errors='coerce')\n",
            "/tmp/ipython-input-1-991561057.py:26: FutureWarning: A value is trying to be set on a copy of a DataFrame or Series through chained assignment using an inplace method.\n",
            "The behavior will change in pandas 3.0. This inplace method will never work because the intermediate object on which we are setting values always behaves as a copy.\n",
            "\n",
            "For example, when doing 'df[col].method(value, inplace=True)', try using 'df.method({col: value}, inplace=True)' or df[col] = df[col].method(value) instead, to perform the operation inplace on the original object.\n",
            "\n",
            "\n",
            "  df['Location Description'].fillna('Unknown', inplace=True)\n"
          ]
        },
        {
          "output_type": "stream",
          "name": "stdout",
          "text": [
            "         ID       Date                 Block Primary Type  \\\n",
            "0  13887564 2025-07-01       017XX W ERIE ST        Theft   \n",
            "1  13886571 2025-07-01   048XX S ASHLAND AVE      Battery   \n",
            "2  13885818 2025-07-01       022XX E 84TH ST        Theft   \n",
            "3  13886478 2025-07-01     014XX W WILLOW ST        Theft   \n",
            "4  13887522 2025-07-01  032XX S CARPENTER ST      Assault   \n",
            "\n",
            "                      Description          Location Description  Arrest  \\\n",
            "0                       OVER $500                        Street   False   \n",
            "1  AGGRAVATED OF A SENIOR CITIZEN  Commercial / Business Office    True   \n",
            "2                  $500 AND UNDER                        Street   False   \n",
            "3                       OVER $500                         Alley   False   \n",
            "4                          SIMPLE                     Apartment   False   \n",
            "\n",
            "   Domestic  Beat  District  ...  FBI Code  Year              Updated On  \\\n",
            "0     False  1215        12  ...        06  2025  07/08/2025 03:44:15 PM   \n",
            "1     False   933         9  ...       04B  2025  07/08/2025 03:44:15 PM   \n",
            "2     False   412         4  ...        06  2025  07/08/2025 03:44:15 PM   \n",
            "3     False  1433        14  ...        06  2025  07/08/2025 03:44:15 PM   \n",
            "4      True   913         9  ...       08A  2025  07/08/2025 03:44:15 PM   \n",
            "\n",
            "    Latitude  Longitude  Month  DayOfWeek  Hour Time of Day  Violent Crime  \n",
            "0  41.893284 -87.670826      7    Tuesday     0       Night          False  \n",
            "1  41.805993 -87.664900      7    Tuesday     0       Night           True  \n",
            "2  41.742600 -87.569386      7    Tuesday     0       Night          False  \n",
            "3  41.914228 -87.663268      7    Tuesday     0       Night          False  \n",
            "4  41.834816 -87.652282      7    Tuesday     0       Night           True  \n",
            "\n",
            "[5 rows x 22 columns]\n"
          ]
        }
      ],
      "source": [
        "import pandas as pd\n",
        "import numpy as np\n",
        "\n",
        "# Dataset\n",
        "df = pd.read_csv('/content/Crimes_-_2025_20250709.csv')\n",
        "\n",
        "\n",
        "# Drop unnecessary columns\n",
        "columns_to_drop = ['Case Number', 'IUCR', 'X Coordinate', 'Y Coordinate', 'Location']\n",
        "df.drop(columns=columns_to_drop, inplace=True, errors='ignore')\n",
        "\n",
        "# Convert 'Date' to datetime\n",
        "df['Date'] = pd.to_datetime(df['Date'], errors='coerce')\n",
        "\n",
        "# Extract time-based features for hierarchy\n",
        "df['Year'] = df['Date'].dt.year\n",
        "df['Month'] = df['Date'].dt.month\n",
        "df['DayOfWeek'] = df['Date'].dt.day_name()\n",
        "df['Hour'] = df['Date'].dt.hour\n",
        "\n",
        "# Standardized titles\n",
        "df['Primary Type'] = df['Primary Type'].str.title()\n",
        "df['Location Description'] = df['Location Description'].str.title()\n",
        "\n",
        "# Replace missing values\n",
        "df['Location Description'].fillna('Unknown', inplace=True)\n",
        "\n",
        "# Convert Arrest and Domestic to Boolean\n",
        "df['Arrest'] = df['Arrest'].astype(bool)\n",
        "df['Domestic'] = df['Domestic'].astype(bool)\n",
        "\n",
        "# Create custom column: Time of Day\n",
        "def get_time_of_day(hour):\n",
        "    if 5 <= hour < 12:\n",
        "        return 'Morning'\n",
        "    elif 12 <= hour < 17:\n",
        "        return 'Afternoon'\n",
        "    elif 17 <= hour < 21:\n",
        "        return 'Evening'\n",
        "    else:\n",
        "        return 'Night'\n",
        "\n",
        "df['Time of Day'] = df['Hour'].apply(get_time_of_day)\n",
        "\n",
        "#Flag violent crimes\n",
        "violent_crimes = ['Homicide', 'Assault', 'Battery', 'Robbery', 'Criminal Sexual Assault']\n",
        "df['Violent Crime'] = df['Primary Type'].isin(violent_crimes)\n",
        "\n",
        "# Drop rows without location\n",
        "df.dropna(subset=['Latitude', 'Longitude'], inplace=True)\n",
        "\n",
        "# Final Check\n",
        "print(df.head())\n",
        "\n",
        "#cleaned data\n",
        "df.to_csv('chicago_crime_cleaned.csv', index=False)\n"
      ]
    }
  ]
}